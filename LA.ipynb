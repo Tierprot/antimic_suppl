{
  "cells": [
    {
      "cell_type": "code",
      "execution_count": 3,
      "metadata": {
        "colab": {
          "base_uri": "https://localhost:8080/"
        },
        "id": "PYyrhWvtcaOP",
        "outputId": "d896accf-8398-4002-ac2f-f2231bebf058"
      },
      "outputs": [
        {
          "output_type": "stream",
          "name": "stdout",
          "text": [
            "\u001b[33mWARNING: Skipping typing as it is not installed.\u001b[0m\n",
            "Looking in indexes: https://pypi.org/simple, https://us-python.pkg.dev/colab-wheels/public/simple/\n",
            "Collecting git+https://github.com/facebookresearch/esm.git\n",
            "  Cloning https://github.com/facebookresearch/esm.git to /tmp/pip-req-build-whtbiex2\n",
            "  Running command git clone -q https://github.com/facebookresearch/esm.git /tmp/pip-req-build-whtbiex2\n",
            "  Installing build dependencies ... \u001b[?25l\u001b[?25hdone\n",
            "  Getting requirements to build wheel ... \u001b[?25l\u001b[?25hdone\n",
            "    Preparing wheel metadata ... \u001b[?25l\u001b[?25hdone\n",
            "Looking in indexes: https://pypi.org/simple, https://us-python.pkg.dev/colab-wheels/public/simple/\n",
            "Requirement already satisfied: scikit-optimize in /usr/local/lib/python3.7/dist-packages (0.9.0)\n",
            "Requirement already satisfied: numpy>=1.13.3 in /usr/local/lib/python3.7/dist-packages (from scikit-optimize) (1.21.6)\n",
            "Requirement already satisfied: scipy>=0.19.1 in /usr/local/lib/python3.7/dist-packages (from scikit-optimize) (1.7.3)\n",
            "Requirement already satisfied: joblib>=0.11 in /usr/local/lib/python3.7/dist-packages (from scikit-optimize) (1.1.0)\n",
            "Requirement already satisfied: pyaml>=16.9 in /usr/local/lib/python3.7/dist-packages (from scikit-optimize) (21.10.1)\n",
            "Requirement already satisfied: scikit-learn>=0.20.0 in /usr/local/lib/python3.7/dist-packages (from scikit-optimize) (1.0.2)\n",
            "Requirement already satisfied: PyYAML in /usr/local/lib/python3.7/dist-packages (from pyaml>=16.9->scikit-optimize) (3.13)\n",
            "Requirement already satisfied: threadpoolctl>=2.0.0 in /usr/local/lib/python3.7/dist-packages (from scikit-learn>=0.20.0->scikit-optimize) (3.1.0)\n"
          ]
        }
      ],
      "source": [
        "# with typing installed, the pip install of esm was breaking\n",
        "!pip uninstall -y typing\n",
        "!pip install git+https://github.com/facebookresearch/esm.git\n",
        "!pip install scikit-optimize"
      ]
    },
    {
      "cell_type": "code",
      "execution_count": 4,
      "metadata": {
        "colab": {
          "base_uri": "https://localhost:8080/",
          "height": 17
        },
        "id": "DMYFw3GfcgF3",
        "outputId": "70e4686b-3195-4802-c10a-1898daa2bb93"
      },
      "outputs": [
        {
          "output_type": "display_data",
          "data": {
            "text/html": [
              "        <script type=\"text/javascript\">\n",
              "        window.PlotlyConfig = {MathJaxConfig: 'local'};\n",
              "        if (window.MathJax) {MathJax.Hub.Config({SVG: {font: \"STIX-Web\"}});}\n",
              "        if (typeof require !== 'undefined') {\n",
              "        require.undef(\"plotly\");\n",
              "        requirejs.config({\n",
              "            paths: {\n",
              "                'plotly': ['https://cdn.plot.ly/plotly-2.8.3.min']\n",
              "            }\n",
              "        });\n",
              "        require(['plotly'], function(Plotly) {\n",
              "            window._Plotly = Plotly;\n",
              "        });\n",
              "        }\n",
              "        </script>\n",
              "        "
            ]
          },
          "metadata": {}
        }
      ],
      "source": [
        "import pandas as pd\n",
        "import torch\n",
        "import esm\n",
        "import matplotlib.pyplot as plt\n",
        "import seaborn as sns\n",
        "import random\n",
        "import numpy as np\n",
        "from IPython.display import Image\n",
        "from tqdm.auto import tqdm\n",
        "import plotly.offline as py\n",
        "py.init_notebook_mode(connected=True)\n",
        "import plotly.graph_objs as go\n",
        "import plotly.express as px\n",
        "import os\n",
        "%matplotlib inline"
      ]
    },
    {
      "cell_type": "code",
      "execution_count": 5,
      "metadata": {
        "id": "2eIhgzUdcjN9"
      },
      "outputs": [],
      "source": [
        "esm_bert, alphabet = esm.pretrained.esm1b_t33_650M_UR50S()\n",
        "batch_converter = alphabet.get_batch_converter()\n",
        "if torch.cuda.is_available():\n",
        "    esm_bert = esm_bert.cuda()"
      ]
    },
    {
      "cell_type": "code",
      "execution_count": 7,
      "metadata": {
        "id": "7NYSSebEcmB0",
        "colab": {
          "base_uri": "https://localhost:8080/"
        },
        "outputId": "01b9f9f2-fadb-4466-eea6-27dba4113a13"
      },
      "outputs": [
        {
          "output_type": "stream",
          "name": "stdout",
          "text": [
            "Drive already mounted at /content/gdrive/; to attempt to forcibly remount, call drive.mount(\"/content/gdrive/\", force_remount=True).\n"
          ]
        }
      ],
      "source": [
        "from google.colab import drive\n",
        "drive.mount('/content/gdrive/')"
      ]
    },
    {
      "cell_type": "code",
      "execution_count": 8,
      "metadata": {
        "id": "4X9T5Lv_cnaT"
      },
      "outputs": [],
      "source": [
        "import sys\n",
        "\n",
        "# BASE_PATH variable should lead to the path where the training data is located\n",
        "# training data itself represents a fasta file, with one sequence per line\n",
        "\n",
        "BASE_PATH = ...\n",
        "sys.path.append(BASE_PATH)\n"
      ]
    },
    {
      "cell_type": "code",
      "execution_count": 9,
      "metadata": {
        "id": "pcl6adVPcqGK"
      },
      "outputs": [],
      "source": [
        "def get_seqs(file):\n",
        "   seqs = []\n",
        "   with open(file) as inp:\n",
        "      for line in inp:\n",
        "          if not line.startswith('>'):\n",
        "              seqs.append(('_', line.strip()))\n",
        "   return seqs"
      ]
    },
    {
      "cell_type": "code",
      "execution_count": 10,
      "metadata": {
        "id": "SCaFJ6HVcsIj"
      },
      "outputs": [],
      "source": [
        "pos_set = get_seqs(os.path.join(BASE_PATH, 'train_po.fasta'))\n",
        "pos_set_labels = [1 for item in pos_set]\n",
        "\n",
        "neg_set = get_seqs(os.path.join(BASE_PATH, 'train_ne.fasta'))\n",
        "neg_set_labels = [0 for item in neg_set]"
      ]
    },
    {
      "cell_type": "code",
      "execution_count": 11,
      "metadata": {
        "id": "fWC91vZicuNN"
      },
      "outputs": [],
      "source": [
        "data = pos_set+neg_set\n",
        "labels = pos_set_labels+neg_set_labels"
      ]
    },
    {
      "cell_type": "code",
      "execution_count": 12,
      "metadata": {
        "id": "k_YDXcrgcwMh",
        "colab": {
          "base_uri": "https://localhost:8080/"
        },
        "outputId": "65fdaedc-6abe-4c2b-ac5c-4bca14b8fa9e"
      },
      "outputs": [
        {
          "output_type": "stream",
          "name": "stderr",
          "text": [
            "/usr/local/lib/python3.7/dist-packages/ipykernel_launcher.py:20: VisibleDeprecationWarning:\n",
            "\n",
            "Creating an ndarray from ragged nested sequences (which is a list-or-tuple of lists-or-tuples-or ndarrays with different lengths or shapes) is deprecated. If you meant to do this, you must specify 'dtype=object' when creating the ndarray.\n",
            "\n"
          ]
        }
      ],
      "source": [
        "# we find out that averaging over all hidden representations works better than\n",
        "# concatenation of last 4 hidden representations.\n",
        "\n",
        "_, _, batch_tokens = batch_converter(data)\n",
        "\n",
        "i=0\n",
        "peptide_encodings = []\n",
        "with torch.no_grad():\n",
        "    for batch in np.split(batch_tokens, 278):\n",
        "        batch = batch.cuda()\n",
        "        res = esm_bert(batch, repr_layers=[33])\n",
        "        batch_size = len(batch)\n",
        "        encodings = res[\"representations\"][33].mean(axis=1)\n",
        "        mean = encodings.mean(axis=1).reshape(len(batch), 1)\n",
        "        std = encodings.std(axis=1).reshape(len(batch), 1)\n",
        "        encodings = ((encodings - mean) / std).cpu().numpy()\n",
        "        peptide_encodings.extend(encodings)\n",
        "        i+=1\n",
        "peptide_encodings = np.array(list(zip(labels,peptide_encodings)))"
      ]
    },
    {
      "cell_type": "code",
      "execution_count": 13,
      "metadata": {
        "id": "qBgrek_Fh7K8"
      },
      "outputs": [],
      "source": [
        "import torch as T\n",
        "from torch.utils.data import Dataset, DataLoader"
      ]
    },
    {
      "cell_type": "code",
      "execution_count": 14,
      "metadata": {
        "id": "SiXYfmrbiB2z"
      },
      "outputs": [],
      "source": [
        "if torch.cuda.is_available():\n",
        "   device = \"cuda\""
      ]
    },
    {
      "cell_type": "code",
      "execution_count": 15,
      "metadata": {
        "id": "8A6i29M3iDyi"
      },
      "outputs": [],
      "source": [
        "class PeptidesThroughTransformerDataset(Dataset):\n",
        "    def __init__(self, source_data):\n",
        "        self.data_transformer = T.tensor(np.array([np.array(x, dtype=float) for x in np.take(source_data, 1, axis=1)]),\n",
        "            dtype=T.float32).to(device)\n",
        "        self.labels = T.tensor(np.take(source_data, 0, axis=1).astype(dtype='f')).to(device) \n",
        "        \n",
        "    def __len__(self):\n",
        "        return len(self.data_transformer)  \n",
        "\n",
        "    def __getitem__(self, idx):\n",
        "        if T.is_tensor(idx):\n",
        "            idx = idx.tolist()\n",
        "        b_data = self.data_transformer[idx, 0:]\n",
        "        b_labels = self.labels[idx]\n",
        "        sample = { 'data' : b_data, \n",
        "                  'class' : b_labels}\n",
        "        return sample"
      ]
    },
    {
      "cell_type": "code",
      "execution_count": 16,
      "metadata": {
        "id": "a12e7Ab8izrC"
      },
      "outputs": [],
      "source": [
        "from sklearn.model_selection import train_test_split\n",
        "\n",
        "\n",
        "train, val = train_test_split(peptide_encodings,  test_size=0.35)"
      ]
    },
    {
      "cell_type": "code",
      "execution_count": 17,
      "metadata": {
        "id": "PoPuHO1fjW1G"
      },
      "outputs": [],
      "source": [
        "BATCH_SIZE = 1024\n",
        "\n",
        "train_set = PeptidesThroughTransformerDataset(train)\n",
        "\n",
        "val_set = PeptidesThroughTransformerDataset(val)\n",
        "\n",
        "train_loader = DataLoader(train_set, BATCH_SIZE, shuffle=True)\n",
        "valid_loader = DataLoader(val_set, BATCH_SIZE, shuffle=True)"
      ]
    },
    {
      "cell_type": "code",
      "source": [
        "from torch import nn"
      ],
      "metadata": {
        "id": "4Cthyid68tvV"
      },
      "execution_count": null,
      "outputs": []
    },
    {
      "cell_type": "code",
      "execution_count": 19,
      "metadata": {
        "id": "TVO35zxTFCcu"
      },
      "outputs": [],
      "source": [
        "class AttentionClassifier(nn.Module):\n",
        "    def __init__(self, embeddings_dim=1280, output_dim=1, dropout=0.1, kernel_size=9, conv_dropout = 0.1):\n",
        "        super().__init__()\n",
        "\n",
        "        self.feature_convolution = nn.Conv1d(in_channels=embeddings_dim, out_channels=embeddings_dim, \n",
        "                                             kernel_size=kernel_size, stride=1,\n",
        "                                             padding=kernel_size // 2)\n",
        "        self.attention_convolution = nn.Conv1d(in_channels=embeddings_dim, out_channels=embeddings_dim, \n",
        "                                               kernel_size=kernel_size, stride=1,\n",
        "                                               padding=kernel_size // 2)\n",
        "        \n",
        "        self.softmax = nn.Softmax(dim=-1)\n",
        "        self.relu = nn.ReLU()\n",
        "        self.dropout = nn.Dropout(conv_dropout)\n",
        "        self.first_layer = nn.Linear(1280,1024)\n",
        "        self.bn_first = nn.BatchNorm1d(1024)\n",
        "\n",
        "        self.second_layer = nn.Linear(1024,512)\n",
        "        self.bn_second = nn.BatchNorm1d(512)\n",
        "\n",
        "        self.output = nn.Linear(512,1) \n",
        "        self.sigmoid = nn.Sigmoid()    \n",
        "   \n",
        "    def forward(self, input_vector):\n",
        "        input_vector = torch.unsqueeze(input_vector, dim=2)\n",
        "        o = self.feature_convolution(input_vector)  \n",
        "        o = self.dropout(o)\n",
        "        attention = self.attention_convolution(input_vector)\n",
        "        o = torch.sum(o * self.softmax(attention), dim=-1)  # [batchsize, embeddings_dim]\n",
        "        layer1 = self.dropout(self.relu(self.bn_first(self.first_layer(o))))\n",
        "        layer2 = self.dropout(self.relu(self.bn_second(self.second_layer(layer1))))\n",
        "        prob = self.sigmoid(self.output(layer2))\n",
        "        return prob"
      ]
    },
    {
      "cell_type": "code",
      "execution_count": 20,
      "metadata": {
        "id": "9zOGZyu7qYSf"
      },
      "outputs": [],
      "source": [
        "import torch.optim as optim\n",
        "\n",
        "model = AttentionClassifier().to(device)"
      ]
    },
    {
      "cell_type": "code",
      "source": [
        "optimizer = optim.AdamW(model.parameters(), lr=1e-6)\n",
        "criterion = nn.BCELoss()"
      ],
      "metadata": {
        "id": "1-Lrd3lJA_xh"
      },
      "execution_count": 21,
      "outputs": []
    },
    {
      "cell_type": "code",
      "execution_count": 22,
      "metadata": {
        "id": "Jy0Iu--TqjIr"
      },
      "outputs": [],
      "source": [
        "def train(model, iterator, optimizer, criterion, train_history=None, valid_history=None):\n",
        "    model.train()\n",
        "\n",
        "    epoch_loss = 0\n",
        "    history = []\n",
        "    for i, batch in enumerate(iterator):\n",
        "        optimizer.zero_grad()\n",
        "        batch = {k: v.to(device) for k, v in batch.items()}\n",
        "        output = model(batch['data'])\n",
        "\n",
        "        loss = criterion(output.squeeze(), batch['class'])\n",
        "        loss.backward()\n",
        "        optimizer.step()\n",
        "\n",
        "        epoch_loss +=loss.item()\n",
        "\n",
        "        history.append(loss.cpu().data.numpy())\n",
        "\n",
        "        if (i+1)%2 == 0:\n",
        "            fig, ax = plt.subplots(nrows=1, ncols=2, figsize=(12, 8))\n",
        "            clear_output(True)\n",
        "            ax[0].plot(history, label='train loss')\n",
        "            ax[0].set_xlabel('Batch')\n",
        "            ax[0].set_title('Train loss')\n",
        "            if train_history:\n",
        "               ax[1].plot(train_history, label='general train history')\n",
        "               ax[1].set_xlabel('Epoch')\n",
        "            if valid_history:\n",
        "               ax[1].plot(valid_history, label='general valid history')\n",
        "               ax[1].set_xlabel('Epoch')\n",
        "            plt.legend()\n",
        "\n",
        "            plt.show()\n",
        "    return epoch_loss / (i+1)"
      ]
    },
    {
      "cell_type": "code",
      "execution_count": 23,
      "metadata": {
        "id": "HlaWKhwFqvQD"
      },
      "outputs": [],
      "source": [
        "def evaluate(model, iterator, criterion):\n",
        "    model.eval()\n",
        "\n",
        "    epoch_loss = 0\n",
        "\n",
        "    history = []\n",
        "\n",
        "    with torch.no_grad():\n",
        "        for i, batch in enumerate(iterator):\n",
        "            batch = {k: v.to(device) for k, v in batch.items()}\n",
        "            output = model(batch['data'])\n",
        "            loss = criterion(output.squeeze(), batch['class'])\n",
        "            epoch_loss += loss.item()\n",
        "        return epoch_loss / (i+1)\n",
        "\n",
        "def epoch_time(start_time, end_time):\n",
        "    elapsed_time = end_time - start_time\n",
        "    elapsed_mins = int(elapsed_time / 60)\n",
        "    elapsed_secs = int(elapsed_time - (elapsed_mins * 60))\n",
        "    return elapsed_mins, elapsed_secs"
      ]
    },
    {
      "cell_type": "code",
      "execution_count": 24,
      "metadata": {
        "id": "JXI6KUL9q0Sw"
      },
      "outputs": [],
      "source": [
        "import time\n",
        "import math\n",
        "import matplotlib\n",
        "import matplotlib.pyplot as plt\n",
        "from IPython.display import clear_output\n",
        "\n",
        "matplotlib.rcParams.update({'figure.figsize': (16,12),\n",
        "                            'font.size': 14})\n",
        "\n",
        "%matplotlib inline\n"
      ]
    },
    {
      "cell_type": "code",
      "source": [
        "# weights of the best model (in terms of validation score) should be saved in that file\n",
        "\n",
        "MODEL_PATH = os.path.join(BASE_PATH, 'la_model2.pt')"
      ],
      "metadata": {
        "id": "1kQ2Aw27SkXw"
      },
      "execution_count": 25,
      "outputs": []
    },
    {
      "cell_type": "code",
      "execution_count": 26,
      "metadata": {
        "colab": {
          "base_uri": "https://localhost:8080/",
          "height": 905
        },
        "id": "am-JlPVFq3HJ",
        "outputId": "89faf774-35fe-476f-cb7a-5e489b9cbc57"
      },
      "outputs": [
        {
          "output_type": "display_data",
          "data": {
            "text/plain": [
              "<Figure size 864x576 with 2 Axes>"
            ],
            "image/png": "[encoded data removed]"
          },
          "metadata": {
            "needs_background": "light"
          }
        },
        {
          "output_type": "stream",
          "name": "stdout",
          "text": [
            "\tTrain Loss: 0.274\n",
            "\tVal. Loss: 0.488\n"
          ]
        },
        {
          "output_type": "error",
          "ename": "KeyboardInterrupt",
          "evalue": "ignored",
          "traceback": [
            "\u001b[0;31m---------------------------------------------------------------------------\u001b[0m",
            "\u001b[0;31mKeyboardInterrupt\u001b[0m                         Traceback (most recent call last)",
            "\u001b[0;32m<ipython-input-26-08138c25a7fd>\u001b[0m in \u001b[0;36m<module>\u001b[0;34m()\u001b[0m\n\u001b[1;32m     11\u001b[0m     \u001b[0mstart_time\u001b[0m \u001b[0;34m=\u001b[0m \u001b[0mtime\u001b[0m\u001b[0;34m.\u001b[0m\u001b[0mtime\u001b[0m\u001b[0;34m(\u001b[0m\u001b[0;34m)\u001b[0m\u001b[0;34m\u001b[0m\u001b[0;34m\u001b[0m\u001b[0m\n\u001b[1;32m     12\u001b[0m \u001b[0;34m\u001b[0m\u001b[0m\n\u001b[0;32m---> 13\u001b[0;31m     \u001b[0mtrain_loss\u001b[0m \u001b[0;34m=\u001b[0m \u001b[0mtrain\u001b[0m\u001b[0;34m(\u001b[0m\u001b[0mmodel\u001b[0m\u001b[0;34m,\u001b[0m \u001b[0mtrain_loader\u001b[0m\u001b[0;34m,\u001b[0m \u001b[0moptimizer\u001b[0m\u001b[0;34m,\u001b[0m \u001b[0mcriterion\u001b[0m\u001b[0;34m,\u001b[0m \u001b[0mtrain_history\u001b[0m\u001b[0;34m,\u001b[0m \u001b[0mvalid_history\u001b[0m\u001b[0;34m)\u001b[0m\u001b[0;34m\u001b[0m\u001b[0;34m\u001b[0m\u001b[0m\n\u001b[0m\u001b[1;32m     14\u001b[0m     \u001b[0mvalid_loss\u001b[0m \u001b[0;34m=\u001b[0m \u001b[0mevaluate\u001b[0m\u001b[0;34m(\u001b[0m\u001b[0mmodel\u001b[0m\u001b[0;34m,\u001b[0m \u001b[0mvalid_loader\u001b[0m\u001b[0;34m,\u001b[0m \u001b[0mcriterion\u001b[0m\u001b[0;34m)\u001b[0m\u001b[0;34m\u001b[0m\u001b[0;34m\u001b[0m\u001b[0m\n\u001b[1;32m     15\u001b[0m \u001b[0;34m\u001b[0m\u001b[0m\n",
            "\u001b[0;32m<ipython-input-22-6544c89bbb66>\u001b[0m in \u001b[0;36mtrain\u001b[0;34m(model, iterator, optimizer, criterion, train_history, valid_history)\u001b[0m\n\u001b[1;32m     13\u001b[0m         \u001b[0moptimizer\u001b[0m\u001b[0;34m.\u001b[0m\u001b[0mstep\u001b[0m\u001b[0;34m(\u001b[0m\u001b[0;34m)\u001b[0m\u001b[0;34m\u001b[0m\u001b[0;34m\u001b[0m\u001b[0m\n\u001b[1;32m     14\u001b[0m \u001b[0;34m\u001b[0m\u001b[0m\n\u001b[0;32m---> 15\u001b[0;31m         \u001b[0mepoch_loss\u001b[0m \u001b[0;34m+=\u001b[0m\u001b[0mloss\u001b[0m\u001b[0;34m.\u001b[0m\u001b[0mitem\u001b[0m\u001b[0;34m(\u001b[0m\u001b[0;34m)\u001b[0m\u001b[0;34m\u001b[0m\u001b[0;34m\u001b[0m\u001b[0m\n\u001b[0m\u001b[1;32m     16\u001b[0m \u001b[0;34m\u001b[0m\u001b[0m\n\u001b[1;32m     17\u001b[0m         \u001b[0mhistory\u001b[0m\u001b[0;34m.\u001b[0m\u001b[0mappend\u001b[0m\u001b[0;34m(\u001b[0m\u001b[0mloss\u001b[0m\u001b[0;34m.\u001b[0m\u001b[0mcpu\u001b[0m\u001b[0;34m(\u001b[0m\u001b[0;34m)\u001b[0m\u001b[0;34m.\u001b[0m\u001b[0mdata\u001b[0m\u001b[0;34m.\u001b[0m\u001b[0mnumpy\u001b[0m\u001b[0;34m(\u001b[0m\u001b[0;34m)\u001b[0m\u001b[0;34m)\u001b[0m\u001b[0;34m\u001b[0m\u001b[0;34m\u001b[0m\u001b[0m\n",
            "\u001b[0;31mKeyboardInterrupt\u001b[0m: "
          ]
        }
      ],
      "source": [
        "train_history = []\n",
        "valid_history = []\n",
        "\n",
        "N_EPOCHS = 3000\n",
        "\n",
        "best_valid_loss = float('inf')\n",
        "\n",
        "\n",
        "\n",
        "for epoch in range(N_EPOCHS):\n",
        "    start_time = time.time()\n",
        "\n",
        "    train_loss = train(model, train_loader, optimizer, criterion, train_history, valid_history)\n",
        "    valid_loss = evaluate(model, valid_loader, criterion)\n",
        "    \n",
        "    end_time = time.time()\n",
        "\n",
        "    epoch_mins, epoch_secs = epoch_time(start_time, end_time)\n",
        "\n",
        "    if valid_loss < best_valid_loss:\n",
        "        best_valid_loss = valid_loss\n",
        "\n",
        "        # comment this block if saving of model weights \n",
        "        # aren't desired\n",
        "\n",
        "        ####\n",
        "        torch.save({\n",
        "            'epoch': epoch,\n",
        "            'model_state_dict': model.state_dict(),\n",
        "            'optimizer_state_dict': optimizer.state_dict(),\n",
        "            'loss': valid_loss,\n",
        "            }, MODEL_PATH)\n",
        "        ####\n",
        "\n",
        "    train_history.append(train_loss)\n",
        "    valid_history.append(valid_loss)\n",
        "    print(f'\\tTrain Loss: {train_loss:.3f}')\n",
        "    print(f'\\tVal. Loss: {valid_loss:.3f}')"
      ]
    },
    {
      "cell_type": "code",
      "execution_count": 36,
      "metadata": {
        "id": "WjpjFf5mSaFr",
        "colab": {
          "base_uri": "https://localhost:8080/"
        },
        "outputId": "5050fe4e-3886-41ac-d0a2-a5a92eccfd43"
      },
      "outputs": [
        {
          "output_type": "execute_result",
          "data": {
            "text/plain": [
              "AttentionClassifier(\n",
              "  (feature_convolution): Conv1d(1280, 1280, kernel_size=(9,), stride=(1,), padding=(4,))\n",
              "  (attention_convolution): Conv1d(1280, 1280, kernel_size=(9,), stride=(1,), padding=(4,))\n",
              "  (softmax): Softmax(dim=-1)\n",
              "  (relu): ReLU()\n",
              "  (dropout): Dropout(p=0.1, inplace=False)\n",
              "  (first_layer): Linear(in_features=1280, out_features=1024, bias=True)\n",
              "  (bn_first): BatchNorm1d(1024, eps=1e-05, momentum=0.1, affine=True, track_running_stats=True)\n",
              "  (second_layer): Linear(in_features=1024, out_features=512, bias=True)\n",
              "  (bn_second): BatchNorm1d(512, eps=1e-05, momentum=0.1, affine=True, track_running_stats=True)\n",
              "  (output): Linear(in_features=512, out_features=1, bias=True)\n",
              "  (sigmoid): Sigmoid()\n",
              ")"
            ]
          },
          "metadata": {},
          "execution_count": 36
        }
      ],
      "source": [
        "# comment this block if no saving of the model weights wasn't performed\n",
        "\n",
        "best_model = torch.load(MODEL_PATH)\n",
        "model.load_state_dict(best_model['model_state_dict'])\n",
        "optimizer.load_state_dict(best_model['optimizer_state_dict'])\n",
        "model.eval()"
      ]
    },
    {
      "cell_type": "code",
      "execution_count": 37,
      "metadata": {
        "id": "lTf1JRR-q9ee"
      },
      "outputs": [],
      "source": [
        "threshold=0.5\n",
        "results = {}\n",
        "\n",
        "TP = 0\n",
        "TN = 0\n",
        "FN = 0\n",
        "FP = 0\n",
        "\n",
        "with torch.no_grad():\n",
        "    for batch in valid_loader:\n",
        "        batch['data'].to(device)\n",
        "        batch['class'].to(device)\n",
        "        preds =  (model(batch['data']).squeeze() > threshold).int() \n",
        "        true = batch['class'].int()\n",
        "        TP += torch.sum((preds == 1) & (preds == true), 0)\n",
        "        TN += torch.sum((preds == 0) & (preds == true), 0)\n",
        "        FN += torch.sum((preds == 1) & (preds != true), 0)\n",
        "        FP += torch.sum((preds == 0) & (preds != true), 0)\n",
        "\n",
        "results[\"TP\"] = TP\n",
        "results[\"TN\"] = TN\n",
        "results[\"FN\"] = FN\n",
        "results[\"FP\"] = FP\n",
        "results[\"Sensitivity\"] = TP/(TP+FN)\n",
        "results[\"Specificity\"] = TN/(TN+FP)\n",
        "results[\"Accuracy\"] = (TP+TN)/(TP+TN+FP+FN)"
      ]
    },
    {
      "cell_type": "code",
      "execution_count": 38,
      "metadata": {
        "colab": {
          "base_uri": "https://localhost:8080/"
        },
        "id": "jbU-i69yxD4P",
        "outputId": "747f83c9-55e0-45ad-aeb4-21f87869133a"
      },
      "outputs": [
        {
          "output_type": "stream",
          "name": "stdout",
          "text": [
            " Acc 0.7805789113044739 Sensitivity 0.7789473533630371 Specificity 0.7824351191520691\n"
          ]
        }
      ],
      "source": [
        "print(f' Acc {results[\"Accuracy\"]} Sensitivity {results[\"Sensitivity\"]} Specificity {results[\"Specificity\"]}')"
      ]
    },
    {
      "cell_type": "code",
      "execution_count": 40,
      "metadata": {
        "id": "FntoTSW7rSv_"
      },
      "outputs": [],
      "source": [
        "###### Benchmark results ########"
      ]
    },
    {
      "cell_type": "code",
      "execution_count": 41,
      "metadata": {
        "id": "wc4ztrYJrq-r"
      },
      "outputs": [],
      "source": [
        "pos_test_set = get_seqs(os.path.join(BASE_PATH, 'benchmark_po.fasta'))\n",
        "pos_test_set_labels = [1 for item in pos_test_set]\n",
        "\n",
        "neg_test_set = get_seqs(os.path.join(BASE_PATH, 'benchmark_ne.fasta'))\n",
        "neg_test_set_labels = [0 for item in neg_test_set]\n",
        "\n",
        "test_data = pos_test_set+neg_test_set\n",
        "test_labels = pos_test_set_labels+neg_test_set_labels"
      ]
    },
    {
      "cell_type": "code",
      "execution_count": 42,
      "metadata": {
        "colab": {
          "base_uri": "https://localhost:8080/"
        },
        "id": "GM6xrVhftDxa",
        "outputId": "1e45c651-b290-4088-9e2d-43bc49cf6d1b"
      },
      "outputs": [
        {
          "output_type": "stream",
          "name": "stderr",
          "text": [
            "/usr/local/lib/python3.7/dist-packages/ipykernel_launcher.py:17: VisibleDeprecationWarning:\n",
            "\n",
            "Creating an ndarray from ragged nested sequences (which is a list-or-tuple of lists-or-tuples-or ndarrays with different lengths or shapes) is deprecated. If you meant to do this, you must specify 'dtype=object' when creating the ndarray.\n",
            "\n"
          ]
        }
      ],
      "source": [
        "_, _, test_batch_tokens = batch_converter(test_data)\n",
        "\n",
        "i=0\n",
        "test_peptide_encodings = []\n",
        "with torch.no_grad():\n",
        "    for batch in np.split(test_batch_tokens, 188):\n",
        "        batch = batch.cuda()\n",
        "        res = esm_bert(batch, repr_layers=[33])\n",
        "        batch_size = len(batch)\n",
        "        encodings = res[\"representations\"][33].mean(axis=1)\n",
        "        mean = encodings.mean(axis=1).reshape(len(batch), 1)\n",
        "        std = encodings.std(axis=1).reshape(len(batch), 1)\n",
        "        encodings = ((encodings - mean) / std).cpu().numpy()\n",
        "        test_peptide_encodings.extend(encodings)\n",
        "        i+=1\n",
        "\n",
        "test_peptide_encodings = np.array(list(zip(test_labels,test_peptide_encodings)))"
      ]
    },
    {
      "cell_type": "code",
      "execution_count": 43,
      "metadata": {
        "id": "XzZOqOkdzGHm"
      },
      "outputs": [],
      "source": [
        "BATCH_SIZE = 100\n",
        "test_set = PeptidesThroughTransformerDataset(test_peptide_encodings)\n",
        "test_loader = DataLoader(test_set, BATCH_SIZE, shuffle=True)"
      ]
    },
    {
      "cell_type": "code",
      "execution_count": 44,
      "metadata": {
        "id": "oRmB65CqzVBN"
      },
      "outputs": [],
      "source": [
        "TP = 0\n",
        "TN = 0\n",
        "FN = 0\n",
        "FP = 0\n",
        "results_test = {}\n",
        "\n",
        "with torch.no_grad():\n",
        "    for batch in test_loader:\n",
        "        batch['data'].to(device)\n",
        "        batch['class'].to(device)\n",
        "        preds = (model(batch['data']).squeeze() > threshold).int() \n",
        "        true = batch['class'].int()\n",
        "        TP += torch.sum((preds == 1) & (preds == true), 0)\n",
        "        TN += torch.sum((preds == 0) & (preds == true), 0)\n",
        "        FN += torch.sum((preds == 1) & (preds != true), 0)\n",
        "        FP += torch.sum((preds == 0) & (preds != true), 0)\n",
        "\n",
        "results_test[\"TP\"] = TP\n",
        "results_test[\"TN\"] = TN\n",
        "results_test[\"FN\"] = FN\n",
        "results_test[\"FP\"] = FP\n",
        "results_test[\"Sensitivity\"] = TP/(TP+FN)\n",
        "results_test[\"Specificity\"] = TN/(TN+FP)\n",
        "results_test[\"Accuracy\"] = (TP+TN)/(TP+TN+FP+FN)\n",
        "      "
      ]
    },
    {
      "cell_type": "code",
      "execution_count": 45,
      "metadata": {
        "colab": {
          "base_uri": "https://localhost:8080/"
        },
        "id": "ZkQGfyj8zo7T",
        "outputId": "be55854a-b2d9-49c9-f3c3-598fa1277d57"
      },
      "outputs": [
        {
          "output_type": "stream",
          "name": "stdout",
          "text": [
            " Acc 0.7978723645210266 Sensitivity 0.8111110925674438 Specificity 0.7857142686843872\n"
          ]
        }
      ],
      "source": [
        "print(f' Acc {results_test[\"Accuracy\"]} Sensitivity {results_test[\"Sensitivity\"]} Specificity {results_test[\"Specificity\"]}')"
      ]
    },
    {
      "cell_type": "code",
      "execution_count": 47,
      "metadata": {
        "colab": {
          "base_uri": "https://localhost:8080/"
        },
        "id": "T939p21czsAm",
        "outputId": "7356c526-48ae-4266-dae2-03ebaa406e1a"
      },
      "outputs": [
        {
          "output_type": "execute_result",
          "data": {
            "text/plain": [
              "tensor(0.5963, device='cuda:0')"
            ]
          },
          "metadata": {},
          "execution_count": 47
        }
      ],
      "source": [
        "MCC = (TP*TN - FP*FN) / ((TP+FP)*(TP+FN)*(TN+FP)*(TN+FN))**0.5\n",
        "MCC"
      ]
    },
    {
      "cell_type": "code",
      "execution_count": null,
      "metadata": {
        "id": "YipWAIJFV8Bi"
      },
      "outputs": [],
      "source": [
        ""
      ]
    }
  ],
  "metadata": {
    "accelerator": "GPU",
    "colab": {
      "name": "LA",
      "provenance": [],
      "collapsed_sections": []
    },
    "gpuClass": "standard",
    "kernelspec": {
      "display_name": "Python 3",
      "name": "python3"
    },
    "language_info": {
      "name": "python"
    }
  },
  "nbformat": 4,
  "nbformat_minor": 0
}