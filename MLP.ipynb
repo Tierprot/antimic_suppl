{
  "cells": [
    {
      "cell_type": "code",
      "execution_count": 1,
      "metadata": {
        "colab": {
          "base_uri": "https://localhost:8080/"
        },
        "id": "PYyrhWvtcaOP",
        "outputId": "ad628d12-67fa-434f-b7a7-6765680c64c9"
      },
      "outputs": [
        {
          "output_type": "stream",
          "name": "stdout",
          "text": [
            "\u001b[33mWARNING: Skipping typing as it is not installed.\u001b[0m\n",
            "Looking in indexes: https://pypi.org/simple, https://us-python.pkg.dev/colab-wheels/public/simple/\n",
            "Collecting git+https://github.com/facebookresearch/esm.git\n",
            "  Cloning https://github.com/facebookresearch/esm.git to /tmp/pip-req-build-p89nmnql\n",
            "  Running command git clone -q https://github.com/facebookresearch/esm.git /tmp/pip-req-build-p89nmnql\n",
            "  Installing build dependencies ... \u001b[?25l\u001b[?25hdone\n",
            "  Getting requirements to build wheel ... \u001b[?25l\u001b[?25hdone\n",
            "    Preparing wheel metadata ... \u001b[?25l\u001b[?25hdone\n",
            "Building wheels for collected packages: fair-esm\n",
            "  Building wheel for fair-esm (PEP 517) ... \u001b[?25l\u001b[?25hdone\n",
            "  Created wheel for fair-esm: filename=fair_esm-0.4.2-py3-none-any.whl size=68336 sha256=ffa6d664c38c2bc79ba20f299cc5b6d225f9260ee0c9f07a5fb40d1ac41839b4\n",
            "  Stored in directory: /tmp/pip-ephem-wheel-cache-zfnjahww/wheels/5c/8e/11/307eca5379b418a9989ef4d24ead655755f2500a577ec95208\n",
            "Successfully built fair-esm\n",
            "Installing collected packages: fair-esm\n",
            "Successfully installed fair-esm-0.4.2\n",
            "Looking in indexes: https://pypi.org/simple, https://us-python.pkg.dev/colab-wheels/public/simple/\n",
            "Collecting scikit-optimize\n",
            "  Downloading scikit_optimize-0.9.0-py2.py3-none-any.whl (100 kB)\n",
            "\u001b[K     |████████████████████████████████| 100 kB 2.8 MB/s \n",
            "\u001b[?25hRequirement already satisfied: scipy>=0.19.1 in /usr/local/lib/python3.7/dist-packages (from scikit-optimize) (1.7.3)\n",
            "Requirement already satisfied: numpy>=1.13.3 in /usr/local/lib/python3.7/dist-packages (from scikit-optimize) (1.21.6)\n",
            "Collecting pyaml>=16.9\n",
            "  Downloading pyaml-21.10.1-py2.py3-none-any.whl (24 kB)\n",
            "Requirement already satisfied: joblib>=0.11 in /usr/local/lib/python3.7/dist-packages (from scikit-optimize) (1.1.0)\n",
            "Requirement already satisfied: scikit-learn>=0.20.0 in /usr/local/lib/python3.7/dist-packages (from scikit-optimize) (1.0.2)\n",
            "Requirement already satisfied: PyYAML in /usr/local/lib/python3.7/dist-packages (from pyaml>=16.9->scikit-optimize) (3.13)\n",
            "Requirement already satisfied: threadpoolctl>=2.0.0 in /usr/local/lib/python3.7/dist-packages (from scikit-learn>=0.20.0->scikit-optimize) (3.1.0)\n",
            "Installing collected packages: pyaml, scikit-optimize\n",
            "Successfully installed pyaml-21.10.1 scikit-optimize-0.9.0\n"
          ]
        }
      ],
      "source": [
        "# with typing installed, the pip install of esm was breaking\n",
        "!pip uninstall -y typing\n",
        "!pip install git+https://github.com/facebookresearch/esm.git\n",
        "!pip install scikit-optimize"
      ]
    },
    {
      "cell_type": "code",
      "execution_count": 2,
      "metadata": {
        "colab": {
          "base_uri": "https://localhost:8080/",
          "height": 17
        },
        "id": "DMYFw3GfcgF3",
        "outputId": "fce3b0b0-a027-4433-97b8-ae9086f78915"
      },
      "outputs": [
        {
          "output_type": "display_data",
          "data": {
            "text/html": [
              "        <script type=\"text/javascript\">\n",
              "        window.PlotlyConfig = {MathJaxConfig: 'local'};\n",
              "        if (window.MathJax) {MathJax.Hub.Config({SVG: {font: \"STIX-Web\"}});}\n",
              "        if (typeof require !== 'undefined') {\n",
              "        require.undef(\"plotly\");\n",
              "        requirejs.config({\n",
              "            paths: {\n",
              "                'plotly': ['https://cdn.plot.ly/plotly-2.8.3.min']\n",
              "            }\n",
              "        });\n",
              "        require(['plotly'], function(Plotly) {\n",
              "            window._Plotly = Plotly;\n",
              "        });\n",
              "        }\n",
              "        </script>\n",
              "        "
            ]
          },
          "metadata": {}
        }
      ],
      "source": [
        "import pandas as pd\n",
        "import torch\n",
        "import esm\n",
        "import matplotlib.pyplot as plt\n",
        "import seaborn as sns\n",
        "import random\n",
        "import numpy as np\n",
        "from IPython.display import Image\n",
        "from tqdm.auto import tqdm\n",
        "import plotly.offline as py\n",
        "py.init_notebook_mode(connected=True)\n",
        "import plotly.graph_objs as go\n",
        "import plotly.express as px\n",
        "import os\n",
        "%matplotlib inline"
      ]
    },
    {
      "cell_type": "code",
      "execution_count": 3,
      "metadata": {
        "id": "2eIhgzUdcjN9",
        "colab": {
          "base_uri": "https://localhost:8080/"
        },
        "outputId": "557c04ca-4e98-403d-dad6-58a30d24cad4"
      },
      "outputs": [
        {
          "output_type": "stream",
          "name": "stderr",
          "text": [
            "Downloading: \"https://dl.fbaipublicfiles.com/fair-esm/models/esm1b_t33_650M_UR50S.pt\" to /root/.cache/torch/hub/checkpoints/esm1b_t33_650M_UR50S.pt\n",
            "Downloading: \"https://dl.fbaipublicfiles.com/fair-esm/regression/esm1b_t33_650M_UR50S-contact-regression.pt\" to /root/.cache/torch/hub/checkpoints/esm1b_t33_650M_UR50S-contact-regression.pt\n"
          ]
        }
      ],
      "source": [
        "esm_bert, alphabet = esm.pretrained.esm1b_t33_650M_UR50S()\n",
        "batch_converter = alphabet.get_batch_converter()\n",
        "if torch.cuda.is_available():\n",
        "    esm_bert = esm_bert.cuda()"
      ]
    },
    {
      "cell_type": "code",
      "execution_count": 5,
      "metadata": {
        "id": "7NYSSebEcmB0",
        "colab": {
          "base_uri": "https://localhost:8080/"
        },
        "outputId": "26ca63b3-5f29-4421-b213-f8a9d983069d"
      },
      "outputs": [
        {
          "output_type": "stream",
          "name": "stdout",
          "text": [
            "Mounted at /content/gdrive/\n"
          ]
        }
      ],
      "source": [
        "from google.colab import drive\n",
        "drive.mount('/content/gdrive/')"
      ]
    },
    {
      "cell_type": "code",
      "execution_count": 6,
      "metadata": {
        "id": "4X9T5Lv_cnaT"
      },
      "outputs": [],
      "source": [
        "import sys\n",
        "\n",
        "# BASE_PATH variable should lead to the path where the training data is located\n",
        "# training data itself represents a fasta file, with one sequence per line\n",
        "\n",
        "BASE_PATH = ...\n",
        "sys.path.append(BASE_PATH)\n"
      ]
    },
    {
      "cell_type": "code",
      "execution_count": 34,
      "metadata": {
        "id": "pcl6adVPcqGK"
      },
      "outputs": [],
      "source": [
        "def get_seqs(file):\n",
        "   seqs = []\n",
        "   with open(file) as inp:\n",
        "      for line in inp:\n",
        "          if not line.startswith('>'):\n",
        "              seqs.append(('_', line.strip()))\n",
        "   return seqs"
      ]
    },
    {
      "cell_type": "code",
      "execution_count": 35,
      "metadata": {
        "id": "SCaFJ6HVcsIj"
      },
      "outputs": [],
      "source": [
        "pos_set = get_seqs(os.path.join(BASE_PATH, 'train_po.fasta'))\n",
        "pos_set_labels = [1 for item in pos_set]\n",
        "\n",
        "neg_set = get_seqs(os.path.join(BASE_PATH, 'train_ne.fasta'))\n",
        "neg_set_labels = [0 for item in neg_set]"
      ]
    },
    {
      "cell_type": "code",
      "execution_count": 36,
      "metadata": {
        "id": "fWC91vZicuNN"
      },
      "outputs": [],
      "source": [
        "data = pos_set+neg_set\n",
        "labels = pos_set_labels+neg_set_labels"
      ]
    },
    {
      "cell_type": "code",
      "execution_count": 37,
      "metadata": {
        "id": "k_YDXcrgcwMh",
        "colab": {
          "base_uri": "https://localhost:8080/"
        },
        "outputId": "89d30747-f47e-4945-f35d-f91598816c63"
      },
      "outputs": [
        {
          "output_type": "stream",
          "name": "stderr",
          "text": [
            "/usr/local/lib/python3.7/dist-packages/ipykernel_launcher.py:21: VisibleDeprecationWarning:\n",
            "\n",
            "Creating an ndarray from ragged nested sequences (which is a list-or-tuple of lists-or-tuples-or ndarrays with different lengths or shapes) is deprecated. If you meant to do this, you must specify 'dtype=object' when creating the ndarray.\n",
            "\n"
          ]
        }
      ],
      "source": [
        "# we find out that averaging over all hidden representations works better than\n",
        "# concatenation of last 4 hidden representations.\n",
        "\n",
        "_, _, batch_tokens = batch_converter(data)\n",
        "\n",
        "i=0\n",
        "peptide_encodings = []\n",
        "with torch.no_grad():\n",
        "    for batch in np.split(batch_tokens, 278):\n",
        "        batch = batch.cuda()\n",
        "        res = esm_bert(batch, repr_layers=[33])\n",
        "        batch_size = len(batch)\n",
        "        encodings = res[\"representations\"][33].mean(axis=1)\n",
        "        mean = encodings.mean(axis=1).reshape(len(batch), 1)\n",
        "        std = encodings.std(axis=1).reshape(len(batch), 1)\n",
        "        encodings = ((encodings - mean) / std).cpu().numpy()\n",
        "        peptide_encodings.extend(encodings)\n",
        "        i+=1\n",
        "peptide_encodings = np.array(list(zip(labels,peptide_encodings)))"
      ]
    },
    {
      "cell_type": "code",
      "execution_count": 47,
      "metadata": {
        "id": "qBgrek_Fh7K8"
      },
      "outputs": [],
      "source": [
        "import torch as T\n",
        "from torch.utils.data import Dataset, DataLoader"
      ]
    },
    {
      "cell_type": "code",
      "execution_count": 48,
      "metadata": {
        "id": "SiXYfmrbiB2z"
      },
      "outputs": [],
      "source": [
        "if torch.cuda.is_available():\n",
        "   device = \"cuda\""
      ]
    },
    {
      "cell_type": "code",
      "execution_count": 49,
      "metadata": {
        "id": "8A6i29M3iDyi"
      },
      "outputs": [],
      "source": [
        "class PeptidesThroughTransformerDataset(Dataset):\n",
        "    def __init__(self, source_data):\n",
        "        self.data_transformer = T.tensor(np.array([np.array(x, dtype=float) for x in np.take(source_data, 1, axis=1)]),\n",
        "            dtype=T.float32).to(device)\n",
        "        self.labels = T.tensor(np.take(source_data, 0, axis=1).astype(dtype='f')).to(device) \n",
        "        \n",
        "    def __len__(self):\n",
        "        return len(self.data_transformer)  \n",
        "\n",
        "    def __getitem__(self, idx):\n",
        "        if T.is_tensor(idx):\n",
        "            idx = idx.tolist()\n",
        "        b_data = self.data_transformer[idx, 0:]\n",
        "        b_labels = self.labels[idx]\n",
        "        sample = { 'data' : b_data, \n",
        "                  'class' : b_labels}\n",
        "        return sample"
      ]
    },
    {
      "cell_type": "code",
      "execution_count": 50,
      "metadata": {
        "id": "a12e7Ab8izrC"
      },
      "outputs": [],
      "source": [
        "from sklearn.model_selection import train_test_split\n",
        "\n",
        "\n",
        "train, val = train_test_split(peptide_encodings,  test_size=0.35)"
      ]
    },
    {
      "cell_type": "code",
      "execution_count": 51,
      "metadata": {
        "id": "PoPuHO1fjW1G"
      },
      "outputs": [],
      "source": [
        "BATCH_SIZE = 1024\n",
        "\n",
        "train_set = PeptidesThroughTransformerDataset(train)\n",
        "\n",
        "val_set = PeptidesThroughTransformerDataset(val)\n",
        "\n",
        "train_loader = DataLoader(train_set, BATCH_SIZE, shuffle=True)\n",
        "valid_loader = DataLoader(val_set, BATCH_SIZE, shuffle=True)"
      ]
    },
    {
      "cell_type": "code",
      "source": [
        "from torch import nn"
      ],
      "metadata": {
        "id": "dsUt9zJ24tKq"
      },
      "execution_count": null,
      "outputs": []
    },
    {
      "cell_type": "code",
      "source": [
        "class SimpleNNClassifierFV(nn.Module):\n",
        "    def __init__(self, dropout=0.1):\n",
        "        super().__init__()\n",
        "\n",
        "        self.dropout = nn.Dropout(p=dropout)\n",
        "        self.sigmoid = nn.Sigmoid()\n",
        "        self.relu = nn.ReLU()\n",
        "\n",
        "        self.first_layer = nn.Linear(1280,1024)\n",
        "        self.bn_first = nn.BatchNorm1d(1024)\n",
        "\n",
        "        self.second_layer = nn.Linear(1024,512)\n",
        "        self.bn_second = nn.BatchNorm1d(512)\n",
        "\n",
        "        self.output = nn.Linear(512,1) \n",
        "        \n",
        "    def forward(self, input_vector):\n",
        "        layer1 = self.dropout(self.relu(self.bn_first(self.first_layer(input_vector))))\n",
        "        layer2 = self.dropout(self.relu(self.bn_second(self.second_layer(layer1))))\n",
        "        prob = self.sigmoid(self.output(layer2))\n",
        "        return prob"
      ],
      "metadata": {
        "id": "0eIJY-VPOpF-"
      },
      "execution_count": 53,
      "outputs": []
    },
    {
      "cell_type": "code",
      "execution_count": 55,
      "metadata": {
        "id": "9zOGZyu7qYSf"
      },
      "outputs": [],
      "source": [
        "import torch.optim as optim\n",
        "\n",
        "model = SimpleNNClassifierFV().to(device)"
      ]
    },
    {
      "cell_type": "code",
      "source": [
        "optimizer = optim.AdamW(model.parameters(), lr=1e-6)\n",
        "criterion = nn.BCELoss()"
      ],
      "metadata": {
        "id": "1-Lrd3lJA_xh"
      },
      "execution_count": 56,
      "outputs": []
    },
    {
      "cell_type": "code",
      "execution_count": 57,
      "metadata": {
        "id": "Jy0Iu--TqjIr"
      },
      "outputs": [],
      "source": [
        "def train(model, iterator, optimizer, criterion, train_history=None, valid_history=None):\n",
        "    model.train()\n",
        "\n",
        "    epoch_loss = 0\n",
        "    history = []\n",
        "    for i, batch in enumerate(iterator):\n",
        "        optimizer.zero_grad()\n",
        "        batch = {k: v.to(device) for k, v in batch.items()}\n",
        "        output = model(batch['data'])\n",
        "\n",
        "        loss = criterion(output.squeeze(), batch['class'])\n",
        "        loss.backward()\n",
        "        optimizer.step()\n",
        "\n",
        "        epoch_loss +=loss.item()\n",
        "\n",
        "        history.append(loss.cpu().data.numpy())\n",
        "\n",
        "        if (i+1)%2 == 0:\n",
        "            fig, ax = plt.subplots(nrows=1, ncols=2, figsize=(12, 8))\n",
        "            clear_output(True)\n",
        "            ax[0].plot(history, label='train loss')\n",
        "            ax[0].set_xlabel('Batch')\n",
        "            ax[0].set_title('Train loss')\n",
        "            if train_history:\n",
        "               ax[1].plot(train_history, label='general train history')\n",
        "               ax[1].set_xlabel('Epoch')\n",
        "            if valid_history:\n",
        "               ax[1].plot(valid_history, label='general valid history')\n",
        "               ax[1].set_xlabel('Epoch')\n",
        "            plt.legend()\n",
        "\n",
        "            plt.show()\n",
        "    return epoch_loss / (i+1)"
      ]
    },
    {
      "cell_type": "code",
      "execution_count": 58,
      "metadata": {
        "id": "HlaWKhwFqvQD"
      },
      "outputs": [],
      "source": [
        "def evaluate(model, iterator, criterion):\n",
        "    model.eval()\n",
        "\n",
        "    epoch_loss = 0\n",
        "\n",
        "    history = []\n",
        "\n",
        "    with torch.no_grad():\n",
        "        for i, batch in enumerate(iterator):\n",
        "            batch = {k: v.to(device) for k, v in batch.items()}\n",
        "            output = model(batch['data'])\n",
        "            loss = criterion(output.squeeze(), batch['class'])\n",
        "            epoch_loss += loss.item()\n",
        "        return epoch_loss / (i+1)\n",
        "\n",
        "def epoch_time(start_time, end_time):\n",
        "    elapsed_time = end_time - start_time\n",
        "    elapsed_mins = int(elapsed_time / 60)\n",
        "    elapsed_secs = int(elapsed_time - (elapsed_mins * 60))\n",
        "    return elapsed_mins, elapsed_secs"
      ]
    },
    {
      "cell_type": "code",
      "execution_count": 59,
      "metadata": {
        "id": "JXI6KUL9q0Sw"
      },
      "outputs": [],
      "source": [
        "import time\n",
        "import math\n",
        "import matplotlib\n",
        "import matplotlib.pyplot as plt\n",
        "from IPython.display import clear_output\n",
        "\n",
        "matplotlib.rcParams.update({'figure.figsize': (16,12),\n",
        "                            'font.size': 14})\n",
        "\n",
        "%matplotlib inline\n"
      ]
    },
    {
      "cell_type": "code",
      "source": [
        "# weights of the best model (in terms of validation score) should be saved in that file\n",
        "\n",
        "MODEL_PATH = os.path.join(BASE_PATH, 'fcn_model.pt')"
      ],
      "metadata": {
        "id": "1kQ2Aw27SkXw"
      },
      "execution_count": 60,
      "outputs": []
    },
    {
      "cell_type": "code",
      "execution_count": 61,
      "metadata": {
        "colab": {
          "base_uri": "https://localhost:8080/",
          "height": 550
        },
        "id": "am-JlPVFq3HJ",
        "outputId": "123d416a-bc07-4f16-f635-92bbdf6a6f7f"
      },
      "outputs": [
        {
          "output_type": "display_data",
          "data": {
            "text/plain": [
              "<Figure size 864x576 with 2 Axes>"
            ],
            "image/png": "[encoded data removed]"
          },
          "metadata": {
            "needs_background": "light"
          }
        },
        {
          "output_type": "stream",
          "name": "stdout",
          "text": [
            "\tTrain Loss: 0.371\n",
            "\tVal. Loss: 0.524\n"
          ]
        }
      ],
      "source": [
        "train_history = []\n",
        "valid_history = []\n",
        "\n",
        "N_EPOCHS = 1000\n",
        "\n",
        "best_valid_loss = float('inf')\n",
        "\n",
        "\n",
        "\n",
        "for epoch in range(N_EPOCHS):\n",
        "    start_time = time.time()\n",
        "\n",
        "    train_loss = train(model, train_loader, optimizer, criterion, train_history, valid_history)\n",
        "    valid_loss = evaluate(model, valid_loader, criterion)\n",
        "    \n",
        "    end_time = time.time()\n",
        "\n",
        "    epoch_mins, epoch_secs = epoch_time(start_time, end_time)\n",
        "\n",
        "    if valid_loss < best_valid_loss:\n",
        "        best_valid_loss = valid_loss\n",
        "\n",
        "        # comment this block if saving of model weights \n",
        "        # aren't desired\n",
        "\n",
        "        ####\n",
        "        torch.save({\n",
        "            'epoch': epoch,\n",
        "            'model_state_dict': model.state_dict(),\n",
        "            'optimizer_state_dict': optimizer.state_dict(),\n",
        "            'loss': valid_loss,\n",
        "            }, MODEL_PATH)\n",
        "        ####\n",
        "\n",
        "    train_history.append(train_loss)\n",
        "    valid_history.append(valid_loss)\n",
        "    print(f'\\tTrain Loss: {train_loss:.3f}')\n",
        "    print(f'\\tVal. Loss: {valid_loss:.3f}')"
      ]
    },
    {
      "cell_type": "code",
      "execution_count": 62,
      "metadata": {
        "id": "WjpjFf5mSaFr",
        "colab": {
          "base_uri": "https://localhost:8080/"
        },
        "outputId": "0271eff4-6620-437a-98b5-36581531e12a"
      },
      "outputs": [
        {
          "output_type": "execute_result",
          "data": {
            "text/plain": [
              "SimpleNNClassifierFV(\n",
              "  (dropout): Dropout(p=0.1, inplace=False)\n",
              "  (sigmoid): Sigmoid()\n",
              "  (relu): ReLU()\n",
              "  (first_layer): Linear(in_features=1280, out_features=1024, bias=True)\n",
              "  (bn_first): BatchNorm1d(1024, eps=1e-05, momentum=0.1, affine=True, track_running_stats=True)\n",
              "  (second_layer): Linear(in_features=1024, out_features=512, bias=True)\n",
              "  (bn_second): BatchNorm1d(512, eps=1e-05, momentum=0.1, affine=True, track_running_stats=True)\n",
              "  (output): Linear(in_features=512, out_features=1, bias=True)\n",
              ")"
            ]
          },
          "metadata": {},
          "execution_count": 62
        }
      ],
      "source": [
        "# comment this block if no saving of the model weights wasn't performed\n",
        "\n",
        "best_model = torch.load(MODEL_PATH)\n",
        "model.load_state_dict(best_model['model_state_dict'])\n",
        "optimizer.load_state_dict(best_model['optimizer_state_dict'])\n",
        "model.eval()"
      ]
    },
    {
      "cell_type": "code",
      "execution_count": 63,
      "metadata": {
        "id": "lTf1JRR-q9ee"
      },
      "outputs": [],
      "source": [
        "threshold=0.5\n",
        "results = {}\n",
        "\n",
        "TP = 0\n",
        "TN = 0\n",
        "FN = 0\n",
        "FP = 0\n",
        "\n",
        "with torch.no_grad():\n",
        "    for batch in valid_loader:\n",
        "        batch['data'].to(device)\n",
        "        batch['class'].to(device)\n",
        "        preds =  (model(batch['data']).squeeze() > threshold).int() \n",
        "        true = batch['class'].int()\n",
        "        TP += torch.sum((preds == 1) & (preds == true), 0)\n",
        "        TN += torch.sum((preds == 0) & (preds == true), 0)\n",
        "        FN += torch.sum((preds == 1) & (preds != true), 0)\n",
        "        FP += torch.sum((preds == 0) & (preds != true), 0)\n",
        "\n",
        "results[\"TP\"] = TP\n",
        "results[\"TN\"] = TN\n",
        "results[\"FN\"] = FN\n",
        "results[\"FP\"] = FP\n",
        "results[\"Sensitivity\"] = TP/(TP+FN)\n",
        "results[\"Specificity\"] = TN/(TN+FP)\n",
        "results[\"Accuracy\"] = (TP+TN)/(TP+TN+FP+FN)"
      ]
    },
    {
      "cell_type": "code",
      "execution_count": 64,
      "metadata": {
        "colab": {
          "base_uri": "https://localhost:8080/"
        },
        "id": "jbU-i69yxD4P",
        "outputId": "f6129aea-65e6-46ec-ea4b-0cf50046561c"
      },
      "outputs": [
        {
          "output_type": "stream",
          "name": "stdout",
          "text": [
            " Acc 0.7759103775024414 Sensitivity 0.7353433966636658 Specificity 0.8270041942596436\n"
          ]
        }
      ],
      "source": [
        "print(f' Acc {results[\"Accuracy\"]} Sensitivity {results[\"Sensitivity\"]} Specificity {results[\"Specificity\"]}')"
      ]
    },
    {
      "cell_type": "code",
      "execution_count": 65,
      "metadata": {
        "id": "FntoTSW7rSv_"
      },
      "outputs": [],
      "source": [
        "###### Benchmark results ########"
      ]
    },
    {
      "cell_type": "code",
      "execution_count": 66,
      "metadata": {
        "id": "wc4ztrYJrq-r"
      },
      "outputs": [],
      "source": [
        "pos_test_set = get_seqs(os.path.join(BASE_PATH, 'benchmark_po.fasta'))\n",
        "pos_test_set_labels = [1 for item in pos_test_set]\n",
        "\n",
        "neg_test_set = get_seqs(os.path.join(BASE_PATH, 'benchmark_ne.fasta'))\n",
        "neg_test_set_labels = [0 for item in neg_test_set]\n",
        "\n",
        "test_data = pos_test_set+neg_test_set\n",
        "test_labels = pos_test_set_labels+neg_test_set_labels"
      ]
    },
    {
      "cell_type": "code",
      "execution_count": 67,
      "metadata": {
        "colab": {
          "base_uri": "https://localhost:8080/"
        },
        "id": "GM6xrVhftDxa",
        "outputId": "d7a9a658-c26a-469a-8bc5-78b3121c65a9"
      },
      "outputs": [
        {
          "output_type": "stream",
          "name": "stderr",
          "text": [
            "/usr/local/lib/python3.7/dist-packages/ipykernel_launcher.py:18: VisibleDeprecationWarning:\n",
            "\n",
            "Creating an ndarray from ragged nested sequences (which is a list-or-tuple of lists-or-tuples-or ndarrays with different lengths or shapes) is deprecated. If you meant to do this, you must specify 'dtype=object' when creating the ndarray.\n",
            "\n"
          ]
        }
      ],
      "source": [
        "_, _, test_batch_tokens = batch_converter(test_data)\n",
        "\n",
        "i=0\n",
        "test_peptide_encodings = []\n",
        "with torch.no_grad():\n",
        "    for batch in np.split(test_batch_tokens, 188):\n",
        "        batch = batch.cuda()\n",
        "        res = esm_bert(batch, repr_layers=[33])\n",
        "        batch_size = len(batch)\n",
        "        encodings = res[\"representations\"][33].mean(axis=1)\n",
        "        mean = encodings.mean(axis=1).reshape(len(batch), 1)\n",
        "        std = encodings.std(axis=1).reshape(len(batch), 1)\n",
        "        encodings = ((encodings - mean) / std).cpu().numpy()\n",
        "        test_peptide_encodings.extend(encodings)\n",
        "        i+=1\n",
        "\n",
        "test_peptide_encodings = np.array(list(zip(test_labels,test_peptide_encodings)))"
      ]
    },
    {
      "cell_type": "code",
      "execution_count": 68,
      "metadata": {
        "id": "XzZOqOkdzGHm"
      },
      "outputs": [],
      "source": [
        "BATCH_SIZE = 100\n",
        "test_set = PeptidesThroughTransformerDataset(test_peptide_encodings)\n",
        "test_loader = DataLoader(test_set, BATCH_SIZE, shuffle=True)"
      ]
    },
    {
      "cell_type": "code",
      "execution_count": 69,
      "metadata": {
        "id": "oRmB65CqzVBN"
      },
      "outputs": [],
      "source": [
        "TP = 0\n",
        "TN = 0\n",
        "FN = 0\n",
        "FP = 0\n",
        "results_test = {}\n",
        "\n",
        "with torch.no_grad():\n",
        "    for batch in test_loader:\n",
        "        batch['data'].to(device)\n",
        "        batch['class'].to(device)\n",
        "        preds = (model(batch['data']).squeeze() > threshold).int() \n",
        "        true = batch['class'].int()\n",
        "        TP += torch.sum((preds == 1) & (preds == true), 0)\n",
        "        TN += torch.sum((preds == 0) & (preds == true), 0)\n",
        "        FN += torch.sum((preds == 1) & (preds != true), 0)\n",
        "        FP += torch.sum((preds == 0) & (preds != true), 0)\n",
        "\n",
        "results_test[\"TP\"] = TP\n",
        "results_test[\"TN\"] = TN\n",
        "results_test[\"FN\"] = FN\n",
        "results_test[\"FP\"] = FP\n",
        "results_test[\"Sensitivity\"] = TP/(TP+FN)\n",
        "results_test[\"Specificity\"] = TN/(TN+FP)\n",
        "results_test[\"Accuracy\"] = (TP+TN)/(TP+TN+FP+FN)\n",
        "      "
      ]
    },
    {
      "cell_type": "code",
      "execution_count": 70,
      "metadata": {
        "colab": {
          "base_uri": "https://localhost:8080/"
        },
        "id": "ZkQGfyj8zo7T",
        "outputId": "84e6ca8b-f30f-4406-baef-a18f58ac0102"
      },
      "outputs": [
        {
          "output_type": "stream",
          "name": "stdout",
          "text": [
            " Acc 0.7819148898124695 Sensitivity 0.791208803653717 Specificity 0.7731958627700806\n"
          ]
        }
      ],
      "source": [
        "print(f' Acc {results_test[\"Accuracy\"]} Sensitivity {results_test[\"Sensitivity\"]} Specificity {results_test[\"Specificity\"]}')"
      ]
    },
    {
      "cell_type": "code",
      "execution_count": 71,
      "metadata": {
        "colab": {
          "base_uri": "https://localhost:8080/"
        },
        "id": "T939p21czsAm",
        "outputId": "c9d81c8c-5ef6-4323-b730-9c7c0fd293e6"
      },
      "outputs": [
        {
          "output_type": "execute_result",
          "data": {
            "text/plain": [
              "tensor(0.5641, device='cuda:0')"
            ]
          },
          "metadata": {},
          "execution_count": 71
        }
      ],
      "source": [
        "MCC = (TP*TN - FP*FN) / ((TP+FP)*(TP+FN)*(TN+FP)*(TN+FN))**0.5\n",
        "MCC"
      ]
    },
    {
      "cell_type": "code",
      "execution_count": null,
      "metadata": {
        "id": "YipWAIJFV8Bi"
      },
      "outputs": [],
      "source": [
        ""
      ]
    }
  ],
  "metadata": {
    "accelerator": "GPU",
    "colab": {
      "name": "MLP",
      "provenance": [],
      "collapsed_sections": []
    },
    "gpuClass": "standard",
    "kernelspec": {
      "display_name": "Python 3",
      "name": "python3"
    },
    "language_info": {
      "name": "python"
    }
  },
  "nbformat": 4,
  "nbformat_minor": 0
}